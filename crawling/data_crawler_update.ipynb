{
 "cells": [
  {
   "cell_type": "code",
   "execution_count": 44,
   "metadata": {},
   "outputs": [
    {
     "ename": "ValueError",
     "evalue": "The default Firebase app already exists. This means you called initialize_app() more than once without providing an app name as the second argument. In most cases you only need to call initialize_app() once. But if you do want to initialize multiple apps, pass a second argument to initialize_app() to give each app a unique name.",
     "output_type": "error",
     "traceback": [
      "\u001b[0;31m---------------------------------------------------------------------------\u001b[0m",
      "\u001b[0;31mValueError\u001b[0m                                Traceback (most recent call last)",
      "\u001b[0;32m<ipython-input-44-d714ce61108d>\u001b[0m in \u001b[0;36m<module>\u001b[0;34m\u001b[0m\n\u001b[1;32m      8\u001b[0m \u001b[0;31m# Initialize the app with a service account, granting admin privileges\u001b[0m\u001b[0;34m\u001b[0m\u001b[0;34m\u001b[0m\u001b[0;34m\u001b[0m\u001b[0m\n\u001b[1;32m      9\u001b[0m firebase_admin.initialize_app(cred, {\n\u001b[0;32m---> 10\u001b[0;31m     \u001b[0;34m'databaseURL'\u001b[0m\u001b[0;34m:\u001b[0m \u001b[0;34m'https://cau-hashkeyword.firebaseio.com'\u001b[0m\u001b[0;34m\u001b[0m\u001b[0;34m\u001b[0m\u001b[0m\n\u001b[0m\u001b[1;32m     11\u001b[0m })\n",
      "\u001b[0;32m~/anaconda3/lib/python3.7/site-packages/firebase_admin/__init__.py\u001b[0m in \u001b[0;36minitialize_app\u001b[0;34m(credential, options, name)\u001b[0m\n\u001b[1;32m     72\u001b[0m     \u001b[0;32mif\u001b[0m \u001b[0mname\u001b[0m \u001b[0;34m==\u001b[0m \u001b[0m_DEFAULT_APP_NAME\u001b[0m\u001b[0;34m:\u001b[0m\u001b[0;34m\u001b[0m\u001b[0;34m\u001b[0m\u001b[0m\n\u001b[1;32m     73\u001b[0m         raise ValueError((\n\u001b[0;32m---> 74\u001b[0;31m             \u001b[0;34m'The default Firebase app already exists. This means you called '\u001b[0m\u001b[0;34m\u001b[0m\u001b[0;34m\u001b[0m\u001b[0m\n\u001b[0m\u001b[1;32m     75\u001b[0m             \u001b[0;34m'initialize_app() more than once without providing an app name as '\u001b[0m\u001b[0;34m\u001b[0m\u001b[0;34m\u001b[0m\u001b[0m\n\u001b[1;32m     76\u001b[0m             \u001b[0;34m'the second argument. In most cases you only need to call '\u001b[0m\u001b[0;34m\u001b[0m\u001b[0;34m\u001b[0m\u001b[0m\n",
      "\u001b[0;31mValueError\u001b[0m: The default Firebase app already exists. This means you called initialize_app() more than once without providing an app name as the second argument. In most cases you only need to call initialize_app() once. But if you do want to initialize multiple apps, pass a second argument to initialize_app() to give each app a unique name."
     ]
    }
   ],
   "source": [
    "import firebase_admin\n",
    "from firebase_admin import credentials\n",
    "from firebase_admin import db\n",
    "\n",
    "# Fetch the service account key JSON file contents\n",
    "cred = credentials.Certificate('/Users/Solomon/Desktop/cauNotiPrivate/cau-hashkeyword-serviceAccountKey.json')\n",
    "\n",
    "# Initialize the app with a service account, granting admin privileges\n",
    "firebase_admin.initialize_app(cred, {\n",
    "    'databaseURL': 'https://cau-hashkeyword.firebaseio.com'\n",
    "})"
   ]
  },
  {
   "cell_type": "code",
   "execution_count": 45,
   "metadata": {},
   "outputs": [],
   "source": [
    "from bs4 import BeautifulSoup\n",
    "from urllib.request import urlopen\n",
    "from selenium import webdriver\n",
    "import re"
   ]
  },
  {
   "cell_type": "code",
   "execution_count": 46,
   "metadata": {},
   "outputs": [],
   "source": [
    "options = webdriver.ChromeOptions()\n",
    "options.add_argument('headless')\n",
    "options.add_argument('window-size=1920x1080')\n",
    "options.add_argument('disable-gpu')"
   ]
  },
  {
   "cell_type": "code",
   "execution_count": 47,
   "metadata": {},
   "outputs": [
    {
     "name": "stderr",
     "output_type": "stream",
     "text": [
      "/Users/Solomon/anaconda3/lib/python3.7/site-packages/ipykernel_launcher.py:12: DeprecationWarning: use options instead of chrome_options\n",
      "  if sys.path[0] == '':\n"
     ]
    },
    {
     "name": "stdout",
     "output_type": "stream",
     "text": [
      "--- 7.3159050941467285 seconds ---\n"
     ]
    }
   ],
   "source": [
    "# 추가된 게시글을 하나하나 update 하는 version1 (현재사용:x)\n",
    "import time\n",
    "start_time = time.time()\n",
    "\n",
    "ref = db.reference('crawling/webpages/cau/url')\n",
    "cau_db_url = ref.get() # 다 가져오면 무리 아닐까. 만약 최신 게시글의 index가 더 빠르면 0으로 체크하면 돼서 필요x\n",
    "\n",
    "new_cau_title_list = []\n",
    "new_cau_date_list = []\n",
    "new_cau_url_list = []\n",
    "\n",
    "driver = webdriver.Chrome(\"/usr/local/bin/chromedriver\", chrome_options=options)\n",
    "driver.get(\"https://www.cau.ac.kr/cms/FR_CON/index.do?MENU_ID=100\")\n",
    "driver.implicitly_wait(3)\n",
    "\n",
    "cau_base_url = \"https://www.cau.ac.kr/cms/FR_CON/BoardView.do?\\\n",
    "MENU_ID=100&CONTENTS_NO=1&SITE_NO=2&P_TAB_NO=&TAB_NO=&BOARD_SEQ=4&BOARD_CATEGORY_NO=&BBS_SEQ=\"\n",
    "# BBS_SEQ=19642 (id=board_19642)\n",
    "\n",
    "ref = db.reference('crawling/webpages/cau')\n",
    "title_ref = ref.child('title')\n",
    "date_ref = ref.child('date')\n",
    "url_ref = ref.child('url')\n",
    "\n",
    "length = len(cau_db_url)\n",
    "\n",
    "board_list = driver.find_element_by_id(\"tbody\").find_elements_by_tag_name(\"li\")\n",
    "for item in board_list:\n",
    "    if cau_db_url[length - 1] == cau_base_url + item.get_attribute(\"id\").replace(\"board_\",\"\"): break\n",
    "    new_cau_title_list.insert(0, item.find_element_by_class_name(\"txtL\").find_element_by_tag_name('a').text)\n",
    "    new_cau_date_list.insert(0, item.find_element_by_class_name(\"txtInfo\").find_element_by_class_name(\"date\").text)\n",
    "    new_cau_url_list.insert(0, cau_base_url + item.get_attribute(\"id\").replace(\"board_\",\"\"))\n",
    "\n",
    "for index in range(len(new_cau_title_list)):\n",
    "    cau_data = OrderedDict()\n",
    "    \n",
    "    cau_data[length + index] = new_cau_title_list[index]\n",
    "    cau_json = json.dumps(cau_data, ensure_ascii=False, indent=\"\\t\")\n",
    "    title_ref.update(json.loads(cau_json))\n",
    "\n",
    "    cau_data[length + index] = new_cau_date_list[index]\n",
    "    cau_json = json.dumps(cau_data, ensure_ascii=False, indent=\"\\t\")\n",
    "    date_ref.update(json.loads(cau_json))\n",
    "\n",
    "    cau_data[length + index] = new_cau_url_list[index]\n",
    "    cau_json = json.dumps(cau_data, ensure_ascii=False, indent=\"\\t\")\n",
    "    url_ref.update(json.loads(cau_json))\n",
    "\n",
    "print(\"--- %s seconds ---\" %(time.time() - start_time))\n",
    "\n",
    "driver.close()"
   ]
  },
  {
   "cell_type": "code",
   "execution_count": 66,
   "metadata": {},
   "outputs": [
    {
     "name": "stderr",
     "output_type": "stream",
     "text": [
      "/Users/Solomon/anaconda3/lib/python3.7/site-packages/ipykernel_launcher.py:15: DeprecationWarning: use options instead of chrome_options\n",
      "  from ipykernel import kernelapp as app\n"
     ]
    }
   ],
   "source": [
    "# 모든 데이터를 한꺼번에 다시 update 하는 version2 (현재사용:o)\n",
    "# version1과 성능 및 효율성 비교해보기\n",
    "\n",
    "# 나중에 불러오는 것이 많아질 수록 느려질 것?\n",
    "ref = db.reference('crawling/webpages/cau')\n",
    "cau_title_list = ref.child('title').get()\n",
    "cau_date_list = ref.child('date').get()\n",
    "cau_url_list = ref.child('url').get()\n",
    "\n",
    "# 새롭게 추가된 공지사항 리스트를 담음\n",
    "new_cau_title_list = []\n",
    "new_cau_date_list = []\n",
    "new_cau_url_list = []\n",
    "\n",
    "driver = webdriver.Chrome(\"/usr/local/bin/chromedriver\", chrome_options=options)\n",
    "driver.get(\"https://www.cau.ac.kr/cms/FR_CON/index.do?MENU_ID=100\")\n",
    "driver.implicitly_wait(3)\n",
    "\n",
    "cau_base_url = \"https://www.cau.ac.kr/cms/FR_CON/BoardView.do?\\\n",
    "MENU_ID=100&CONTENTS_NO=1&SITE_NO=2&P_TAB_NO=&TAB_NO=&BOARD_SEQ=4&BOARD_CATEGORY_NO=&BBS_SEQ=\"\n",
    "# BBS_SEQ=19642 (id=board_19642)\n",
    "\n",
    "length = len(cau_url_list)\n",
    "\n",
    "board_list = driver.find_element_by_id(\"tbody\").find_elements_by_tag_name(\"li\")\n",
    "for item in board_list:\n",
    "    if cau_url_list[length - 1] == cau_base_url + item.get_attribute(\"id\").replace(\"board_\",\"\"): break\n",
    "    new_cau_title_list.insert(0, item.find_element_by_class_name(\"txtL\").find_element_by_tag_name('a').text)\n",
    "    new_cau_date_list.insert(0, item.find_element_by_class_name(\"txtInfo\").find_element_by_class_name(\"date\").text)\n",
    "    new_cau_url_list.insert(0, cau_base_url + item.get_attribute(\"id\").replace(\"board_\",\"\"))\n",
    "\n",
    "driver.close()"
   ]
  },
  {
   "cell_type": "code",
   "execution_count": 65,
   "metadata": {},
   "outputs": [
    {
     "name": "stderr",
     "output_type": "stream",
     "text": [
      "/Users/Solomon/anaconda3/lib/python3.7/site-packages/ipykernel_launcher.py:9: DeprecationWarning: use options instead of chrome_options\n",
      "  if __name__ == '__main__':\n"
     ]
    },
    {
     "name": "stdout",
     "output_type": "stream",
     "text": [
      "['2019-1학기 독서 커뮤니티 수상 안내', '[2019학년도 하계방학] 학술정보원 이용안내', '7월 정기 학술정보 활용교육 안내']\n",
      "['2019.06.26', '2019.06.28', '2019.07.01']\n"
     ]
    }
   ],
   "source": [
    "ref = db.reference('crawling/webpages/library')\n",
    "lib_title_list = ref.child('title').get()\n",
    "lib_date_list = ref.child('date').get()\n",
    "\n",
    "# 새롭게 추가된 공지사항 리스트를 담음\n",
    "new_lib_title_list = []\n",
    "new_lib_date_list = []\n",
    "\n",
    "driver = webdriver.Chrome(\"/usr/local/bin/chromedriver\", chrome_options=options)\n",
    "driver.get(\"https://library.cau.ac.kr/#/bbs/notice?offset=0&max=20\")\n",
    "driver.implicitly_wait(3)\n",
    "\n",
    "length = len(lib_title_list)\n",
    "try:\n",
    "    board_list = driver.find_elements_by_tag_name(\"tbody\")[1].find_elements_by_tag_name(\"tr\") # find_elements_by_class_name(\"ikc-item\")\n",
    "    for item in board_list:\n",
    "        if lib_title_list[length - 1] == item.find_elements_by_tag_name(\"td\")[2].find_element_by_tag_name('a').text: break\n",
    "        new_lib_title_list.insert(0, item.find_elements_by_tag_name(\"td\")[2].find_element_by_tag_name('a').text)\n",
    "        new_lib_date_list.insert(0, item.find_elements_by_tag_name(\"td\")[3].find_elements_by_tag_name(\"span\")[1].text)\n",
    "except IndexError:\n",
    "    print(\"IndexError\")\n",
    "    pass\n",
    "\n",
    "lib_base_url = \"https://library.cau.ac.kr/#/bbs/notice/\"\n",
    "# 사이에 id 추가\n",
    "lib_sub_url = \"?offset=0&max=20\"\n",
    "\n",
    "# url id는 어떻게 가져올까..\n",
    "\n",
    "print(new_lib_title_list)\n",
    "print(new_lib_date_list)\n",
    "\n",
    "driver.close()"
   ]
  },
  {
   "cell_type": "code",
   "execution_count": 67,
   "metadata": {},
   "outputs": [],
   "source": [
    "# 노란색 공지 부분만 가져온다\n",
    "ref = db.reference('crawling/webpages/dormitory')\n",
    "dorm_title_list = ref.child('title').get()\n",
    "dorm_date_list = ref.child('date').get()\n",
    "dorm_url_list = ref.child('url').get()\n",
    "\n",
    "# 새롭게 추가된 공지사항 리스트를 담음\n",
    "new_dorm_title_list = []\n",
    "new_dorm_date_list = []\n",
    "new_dorm_url_list = []\n",
    "\n",
    "dormnotice_url = \"https://dormitory.cau.ac.kr/bbs/bbs_list.php?bbsID=notice\"\n",
    "dormnotice_page = urlopen(dormnotice_url)\n",
    "dormnotice_soup = BeautifulSoup(dormnotice_page, \"lxml\")\n",
    "\n",
    "dormnotice_list = dormnotice_soup.find(id='content').find('div').find_all('tr',{'bgcolor':'#fffcdb'})\n",
    "\n",
    "length = len(dorm_url_list)\n",
    "if dormnotice_list == []:\n",
    "    print(\"No data\")\n",
    "else :\n",
    "    # url로 비교하기.\n",
    "    for item in dormnotice_list:\n",
    "        if item.find('span').find('img') == None: break\n",
    "        if dorm_url_list[length - 1] != item.find('a')['href']:\n",
    "            new_dorm_title_list.insert(0, item.find('span',class_='bbsTitle').get_text())\n",
    "            new_dorm_date_list.insert(0, \"20\" + item.find_all('td',class_='t_c')[3].get_text())\n",
    "            new_dorm_url_list.insert(0, item.find('a')['href'])"
   ]
  },
  {
   "cell_type": "code",
   "execution_count": 68,
   "metadata": {},
   "outputs": [],
   "source": [
    "ref = db.reference('crawling/webpages/ict')\n",
    "ict_title_list = ref.child('title').get()\n",
    "ict_date_list = ref.child('date').get()\n",
    "ict_url_list = ref.child('url').get()\n",
    "\n",
    "# 새롭게 추가된 공지사항 리스트를 담음\n",
    "new_ict_title_list = []\n",
    "new_ict_date_list = []\n",
    "new_ict_url_list = []\n",
    "\n",
    "ictnotice_url = \"http://ict.cau.ac.kr/20150610/sub05/sub05_01_list.php\"\n",
    "ictnotice_page = urlopen(ictnotice_url)\n",
    "ictnotice_soup = BeautifulSoup(ictnotice_page, \"lxml\")\n",
    "\n",
    "ict_base_url = \"http://ict.cau.ac.kr/20150610/sub05/sub05_01_list.php?cmd=view&cpage=1&idx=\"\n",
    "# 사이에 id 작성\n",
    "ict_sub_url = \"&search_gbn=1&search_keyword=\"\n",
    "\n",
    "ictnotice_list = ictnotice_soup.find('tbody').find_all('tr')\n",
    "length = len(ict_url_list)\n",
    "\n",
    "if ictnotice_list == []:\n",
    "    print(\"No data\")\n",
    "else:\n",
    "    for item in ictnotice_list:\n",
    "        if ict_url_list[length - 1] == ict_base_url + item.find('td',class_='cont').find('a')['href'][-7:-3] + ict_sub_url: break\n",
    "        ict_title_list.insert(length, item.find('td',class_='cont').find('a').get_text())\n",
    "        ict_date_list.insert(length, item.find_all('td')[2].get_text())\n",
    "        ict_url_list.insert(length, ict_base_url + item.find('td',class_='cont').find('a')['href'][-7:-3] + ict_sub_url)"
   ]
  },
  {
   "cell_type": "code",
   "execution_count": 69,
   "metadata": {},
   "outputs": [],
   "source": [
    "ref = db.reference('crawling/webpages/cse')\n",
    "cse_title_list = ref.child('title').get()\n",
    "cse_date_list = ref.child('date').get()\n",
    "cse_url_list = ref.child('url').get()\n",
    "\n",
    "# 새롭게 추가된 공지사항 리스트를 담음\n",
    "new_cse_title_list = []\n",
    "new_cse_date_list = []\n",
    "new_cse_url_list = []\n",
    "\n",
    "csenotice_url = \"http://cse.cau.ac.kr/20141201/sub05/sub0501.php\"\n",
    "csenotice_page = urlopen(csenotice_url)\n",
    "csenotice_soup = BeautifulSoup(csenotice_page, \"lxml\")\n",
    "\n",
    "csenotice_list = csenotice_soup.find('table',class_='nlist').find_all('tr')\n",
    "\n",
    "length = len(cse_url_list)\n",
    "if csenotice_list == []:\n",
    "    print(\"No data\")\n",
    "else:\n",
    "    for item in csenotice_list:\n",
    "        # 파란색 공지 부분 제외\n",
    "        if item.find('td').get_text() != '':\n",
    "            if cse_url_list[length - 1] == csenotice_url + item.find_all('td')[2].find('a')['href']: break\n",
    "            new_cse_title_list.insert(0, re.sub('[\\n\\t\\xa0]','',item.find('a').get_text()))\n",
    "            new_cse_date_list.insert(0, item.find_all('td')[4].get_text())\n",
    "            new_cse_url_list.insert(0, csenotice_url + item.find_all('td')[2].find('a')['href'])"
   ]
  },
  {
   "cell_type": "code",
   "execution_count": 70,
   "metadata": {},
   "outputs": [],
   "source": [
    "# Firebase에 새로 추가된 게시물 업데이트\n",
    "import json\n",
    "from collections import OrderedDict\n",
    "\n",
    "new_crawling_data = OrderedDict()\n",
    "\n",
    "new_crawling_data['cau'] = {'title':new_cau_title_list, 'date':new_cau_date_list, 'url':new_cau_url_list}\n",
    "new_crawling_data['library'] = {'title':new_lib_title_list, 'date':new_lib_date_list, 'url':\"https://library.cau.ac.kr/#/bbs/notice?offset=0&max=20\"}\n",
    "new_crawling_data['dormitory'] = {'title':new_dorm_title_list, 'date':new_dorm_date_list, 'url':new_dorm_url_list}\n",
    "new_crawling_data['ict'] = {'title':new_ict_title_list, 'date':new_ict_date_list, 'url':new_ict_url_list}\n",
    "new_crawling_data['cse'] = {'title':new_cse_title_list, 'date':new_cse_date_list, 'url':new_cse_url_list}\n",
    "\n",
    "new_crawling_json = json.dumps(new_crawling_data, ensure_ascii=False, indent=\"\\t\")\n",
    "ref = db.reference('crawling/webpages')\n",
    "webpage_ref.set(json.loads(new_crawling_json)) # set"
   ]
  },
  {
   "cell_type": "code",
   "execution_count": null,
   "metadata": {},
   "outputs": [],
   "source": []
  }
 ],
 "metadata": {
  "kernelspec": {
   "display_name": "Python 3",
   "language": "python",
   "name": "python3"
  },
  "language_info": {
   "codemirror_mode": {
    "name": "ipython",
    "version": 3
   },
   "file_extension": ".py",
   "mimetype": "text/x-python",
   "name": "python",
   "nbconvert_exporter": "python",
   "pygments_lexer": "ipython3",
   "version": "3.7.1"
  }
 },
 "nbformat": 4,
 "nbformat_minor": 2
}
