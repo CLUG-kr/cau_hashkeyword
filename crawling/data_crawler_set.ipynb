{
 "cells": [
  {
   "cell_type": "code",
   "execution_count": 47,
   "metadata": {},
   "outputs": [
    {
     "ename": "ValueError",
     "evalue": "The default Firebase app already exists. This means you called initialize_app() more than once without providing an app name as the second argument. In most cases you only need to call initialize_app() once. But if you do want to initialize multiple apps, pass a second argument to initialize_app() to give each app a unique name.",
     "output_type": "error",
     "traceback": [
      "\u001b[0;31m---------------------------------------------------------------------------\u001b[0m",
      "\u001b[0;31mValueError\u001b[0m                                Traceback (most recent call last)",
      "\u001b[0;32m<ipython-input-47-0a830fd7f399>\u001b[0m in \u001b[0;36m<module>\u001b[0;34m\u001b[0m\n\u001b[1;32m      9\u001b[0m \u001b[0;31m# Initialize the app with a service account, granting admin privileges\u001b[0m\u001b[0;34m\u001b[0m\u001b[0;34m\u001b[0m\u001b[0;34m\u001b[0m\u001b[0m\n\u001b[1;32m     10\u001b[0m firebase_admin.initialize_app(cred, {\n\u001b[0;32m---> 11\u001b[0;31m     \u001b[0;34m'databaseURL'\u001b[0m\u001b[0;34m:\u001b[0m \u001b[0;34m'https://cau-hashkeyword.firebaseio.com'\u001b[0m\u001b[0;34m\u001b[0m\u001b[0;34m\u001b[0m\u001b[0m\n\u001b[0m\u001b[1;32m     12\u001b[0m })\n",
      "\u001b[0;32m~/anaconda3/lib/python3.7/site-packages/firebase_admin/__init__.py\u001b[0m in \u001b[0;36minitialize_app\u001b[0;34m(credential, options, name)\u001b[0m\n\u001b[1;32m     72\u001b[0m     \u001b[0;32mif\u001b[0m \u001b[0mname\u001b[0m \u001b[0;34m==\u001b[0m \u001b[0m_DEFAULT_APP_NAME\u001b[0m\u001b[0;34m:\u001b[0m\u001b[0;34m\u001b[0m\u001b[0;34m\u001b[0m\u001b[0m\n\u001b[1;32m     73\u001b[0m         raise ValueError((\n\u001b[0;32m---> 74\u001b[0;31m             \u001b[0;34m'The default Firebase app already exists. This means you called '\u001b[0m\u001b[0;34m\u001b[0m\u001b[0;34m\u001b[0m\u001b[0m\n\u001b[0m\u001b[1;32m     75\u001b[0m             \u001b[0;34m'initialize_app() more than once without providing an app name as '\u001b[0m\u001b[0;34m\u001b[0m\u001b[0;34m\u001b[0m\u001b[0m\n\u001b[1;32m     76\u001b[0m             \u001b[0;34m'the second argument. In most cases you only need to call '\u001b[0m\u001b[0;34m\u001b[0m\u001b[0;34m\u001b[0m\u001b[0m\n",
      "\u001b[0;31mValueError\u001b[0m: The default Firebase app already exists. This means you called initialize_app() more than once without providing an app name as the second argument. In most cases you only need to call initialize_app() once. But if you do want to initialize multiple apps, pass a second argument to initialize_app() to give each app a unique name."
     ]
    }
   ],
   "source": [
    "import firebase_admin\n",
    "from firebase_admin import credentials\n",
    "from firebase_admin import db\n",
    "\n",
    "\n",
    "# Fetch the service account key JSON file contents\n",
    "cred = credentials.Certificate('/Users/Solomon/Desktop/cauNotiPrivate/cau-hashkeyword-serviceAccountKey.json')\n",
    "\n",
    "# Initialize the app with a service account, granting admin privileges\n",
    "firebase_admin.initialize_app(cred, {\n",
    "    'databaseURL': 'https://cau-hashkeyword.firebaseio.com'\n",
    "})"
   ]
  },
  {
   "cell_type": "code",
   "execution_count": 48,
   "metadata": {},
   "outputs": [],
   "source": [
    "from bs4 import BeautifulSoup\n",
    "from urllib.request import urlopen\n",
    "from selenium import webdriver\n",
    "import re"
   ]
  },
  {
   "cell_type": "code",
   "execution_count": 49,
   "metadata": {},
   "outputs": [],
   "source": [
    "options = webdriver.ChromeOptions()\n",
    "options.add_argument('headless')\n",
    "options.add_argument('window-size=1920x1080')\n",
    "options.add_argument('disable-gpu')"
   ]
  },
  {
   "cell_type": "code",
   "execution_count": 50,
   "metadata": {},
   "outputs": [
    {
     "name": "stderr",
     "output_type": "stream",
     "text": [
      "/Users/Solomon/anaconda3/lib/python3.7/site-packages/ipykernel_launcher.py:5: DeprecationWarning: use options instead of chrome_options\n",
      "  \"\"\"\n"
     ]
    }
   ],
   "source": [
    "cau_title_list = []\n",
    "cau_date_list = []\n",
    "cau_url_list = []\n",
    "\n",
    "driver = webdriver.Chrome(\"/usr/local/bin/chromedriver\", chrome_options=options)\n",
    "driver.get(\"https://www.cau.ac.kr/cms/FR_CON/index.do?MENU_ID=100\")\n",
    "driver.implicitly_wait(3)\n",
    "\n",
    "cau_base_url = \"https://www.cau.ac.kr/cms/FR_CON/BoardView.do?MENU_ID=100&CONTENTS_NO=1&SITE_NO=2&P_TAB_NO=&TAB_NO=&BOARD_SEQ=4&BOARD_CATEGORY_NO=&BBS_SEQ=\"\n",
    "# BBS_SEQ=19642 (id=board_19642)\n",
    "\n",
    "board_list = driver.find_element_by_id(\"tbody\").find_elements_by_tag_name(\"li\")\n",
    "board_list.reverse()\n",
    "# count = 0\n",
    "for item in board_list:\n",
    "    # if count < 10: pass # 테스트용\n",
    "    # else:\n",
    "    cau_title_list.append(item.find_element_by_class_name(\"txtL\").find_element_by_tag_name('a').text)\n",
    "    cau_date_list.append(item.find_element_by_class_name(\"txtInfo\").find_element_by_class_name(\"date\").text)\n",
    "    cau_url_list.append(cau_base_url + item.get_attribute(\"id\").replace(\"board_\",\"\"))\n",
    "    # count += 1\n",
    "driver.close()\n",
    "\n",
    "# list 앞에 원소를 추가할 때, insert(0,data) 사용 시 O(n)\n",
    "# class collections.deque([iterable[, maxlen]])의 dequeue() 사용 시 O(1)\n",
    "# High Performance를 원한다면 사용하자.\n",
    "\n",
    "# 혹은 list reverse 후, append 계속 사용 (단, reverse의 경우 O(n))"
   ]
  },
  {
   "cell_type": "code",
   "execution_count": 51,
   "metadata": {},
   "outputs": [
    {
     "name": "stderr",
     "output_type": "stream",
     "text": [
      "/Users/Solomon/anaconda3/lib/python3.7/site-packages/ipykernel_launcher.py:5: DeprecationWarning: use options instead of chrome_options\n",
      "  \"\"\"\n"
     ]
    }
   ],
   "source": [
    "lib_title_list = []\n",
    "lib_date_list = []\n",
    "lib_url_list = []\n",
    "\n",
    "driver = webdriver.Chrome(\"/usr/local/bin/chromedriver\", chrome_options=options)\n",
    "driver.get(\"https://library.cau.ac.kr/#/bbs/notice?offset=0&max=20\")\n",
    "driver.implicitly_wait(3)\n",
    "\n",
    "try:\n",
    "    # tbody[0]는 회색 상단 공지 부분으로 아래 공지 중에서 중요한 것들만 올려놓은듯. 즉, 겹치는 내용임.\n",
    "    board_list = driver.find_elements_by_tag_name(\"tbody\")[1].find_elements_by_class_name(\"ikc-item\")\n",
    "    board_list.reverse()\n",
    "    for item in board_list: # tbody 검색후 ikc-item 검색시, 가끔씩 IndexError: list index out of range 발생 (이유 모름)\n",
    "        lib_title_list.append(item.find_elements_by_tag_name(\"td\")[2].find_element_by_tag_name('a').text) # 대체\n",
    "        lib_date_list.append(item.find_elements_by_tag_name(\"td\")[3].find_elements_by_tag_name(\"span\")[1].text)\n",
    "except IndexError:\n",
    "    print(\"IndexError : date와 url이 크롤링되지 않음\")\n",
    "    pass\n",
    "\n",
    "lib_base_url = \"https://library.cau.ac.kr/#/bbs/notice/\"\n",
    "# 사이에 id 추가\n",
    "lib_sub_url = \"?offset=0&max=20\"\n",
    "# url id는 어떻게 가져올까..\n",
    "\n",
    "driver.close()"
   ]
  },
  {
   "cell_type": "code",
   "execution_count": 52,
   "metadata": {},
   "outputs": [],
   "source": [
    "# 노란색 공지 부분만 가져온다\n",
    "dorm_title_list = []\n",
    "dorm_date_list = []\n",
    "dorm_url_list = []\n",
    "\n",
    "dormnotice_url = \"https://dormitory.cau.ac.kr/bbs/bbs_list.php?bbsID=notice\"\n",
    "dormnotice_page = urlopen(dormnotice_url)\n",
    "dormnotice_soup = BeautifulSoup(dormnotice_page, \"lxml\")\n",
    "\n",
    "dormnotice_list = dormnotice_soup.find(id='content').find('div').find_all('tr',{'bgcolor':'#fffcdb'})\n",
    "dormnotice_list.reverse()\n",
    "\n",
    "if dormnotice_list == []:\n",
    "    print(\"No data\")\n",
    "else :\n",
    "    for item in dormnotice_list:\n",
    "        dorm_title_list.append(item.find('span',class_='bbsTitle').get_text())\n",
    "        dorm_url_list.append(item.find('a')['href'])\n",
    "        dorm_date_list.append(\"20\" + item.find_all('td',class_='t_c')[3].get_text())\n",
    "\n",
    "#try-except 적용하기?"
   ]
  },
  {
   "cell_type": "code",
   "execution_count": 53,
   "metadata": {},
   "outputs": [],
   "source": [
    "ict_title_list = []\n",
    "ict_date_list = []\n",
    "ict_url_list = []\n",
    "\n",
    "ictnotice_url = \"http://ict.cau.ac.kr/20150610/sub05/sub05_01_list.php\"\n",
    "ictnotice_page = urlopen(ictnotice_url)\n",
    "ictnotice_soup = BeautifulSoup(ictnotice_page, \"lxml\")\n",
    "\n",
    "ict_base_url = \"http://ict.cau.ac.kr/20150610/sub05/sub05_01_list.php?cmd=view&cpage=1&idx=\"\n",
    "# 사이에 id 작성\n",
    "ict_sub_url = \"&search_gbn=1&search_keyword=\"\n",
    "\n",
    "ictnotice_list = ictnotice_soup.find('tbody').find_all('tr')\n",
    "ictnotice_list.reverse()\n",
    "\n",
    "if ictnotice_list == []:\n",
    "    print(\"No data\")\n",
    "else:\n",
    "    for item in ictnotice_list:\n",
    "        ict_title_list.append(item.find('td',class_='cont').find('a').get_text())\n",
    "        ict_url_list.append(ict_base_url + item.find('td',class_='cont').find('a')['href'][-7:-3] + ict_sub_url)\n",
    "        ict_date_list.append(item.find_all('td')[2].get_text())"
   ]
  },
  {
   "cell_type": "code",
   "execution_count": 54,
   "metadata": {},
   "outputs": [],
   "source": [
    "# 공지표시 되어있는 게시글 제목도 수집? (겹치는 내용임)\n",
    "cse_title_list = []\n",
    "cse_date_list = []\n",
    "cse_url_list = []\n",
    "\n",
    "csenotice_url = \"http://cse.cau.ac.kr/sub05/sub0501.php\"\n",
    "csenotice_page = urlopen(csenotice_url)\n",
    "csenotice_soup = BeautifulSoup(csenotice_page, \"lxml\")\n",
    "\n",
    "csenotice_list = csenotice_soup.find('tbody').find_all('tr')\n",
    "csenotice_list.reverse()\n",
    "\n",
    "if csenotice_list == []:\n",
    "    print(\"No data\")\n",
    "else:\n",
    "    for item in csenotice_list:\n",
    "        if item.find('td').get_text() != '':\n",
    "            cse_title_list.append(re.sub('[\\n\\t\\xa0]','',item.find('a').get_text())) # sub메소드 사용법 검토하기\n",
    "            cse_url_list.append(csenotice_url + item.find_all('td')[2].find('a')['href'])\n",
    "            cse_date_list.append(item.find_all('td')[4].get_text())"
   ]
  },
  {
   "cell_type": "code",
   "execution_count": 57,
   "metadata": {},
   "outputs": [],
   "source": [
    "# Firebase에 크롤링한 데이터 저장하기\n",
    "import json\n",
    "from collections import OrderedDict\n",
    "\n",
    "ref = db.reference('crawling')\n",
    "\n",
    "crawling_data = OrderedDict()\n",
    "\n",
    "crawling_data['cau'] = {'title':cau_title_list, 'date':cau_date_list, 'url':cau_url_list}\n",
    "crawling_data['library'] = {'title':lib_title_list, 'date':lib_date_list, 'url':\"https://library.cau.ac.kr/#/bbs/notice?offset=0&max=20\"}\n",
    "crawling_data['dormitory'] = {'title':dorm_title_list, 'date':dorm_date_list, 'url':dorm_url_list}\n",
    "crawling_data['ict'] = {'title':ict_title_list, 'date':ict_date_list, 'url':ict_url_list}\n",
    "crawling_data['cse'] = {'title':cse_title_list, 'date':cse_date_list, 'url':cse_url_list}\n",
    "\n",
    "crawling_json = json.dumps(crawling_data, ensure_ascii=False, indent=\"\\t\")\n",
    "webpage_ref = ref.child('webpages')\n",
    "webpage_ref.set(json.loads(crawling_json))"
   ]
  },
  {
   "cell_type": "code",
   "execution_count": null,
   "metadata": {},
   "outputs": [],
   "source": []
  }
 ],
 "metadata": {
  "kernelspec": {
   "display_name": "Python 3",
   "language": "python",
   "name": "python3"
  },
  "language_info": {
   "codemirror_mode": {
    "name": "ipython",
    "version": 3
   },
   "file_extension": ".py",
   "mimetype": "text/x-python",
   "name": "python",
   "nbconvert_exporter": "python",
   "pygments_lexer": "ipython3",
   "version": "3.7.1"
  }
 },
 "nbformat": 4,
 "nbformat_minor": 2
}
