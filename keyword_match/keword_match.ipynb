{
 "cells": [
  {
   "cell_type": "code",
   "execution_count": 108,
   "metadata": {},
   "outputs": [
    {
     "ename": "ValueError",
     "evalue": "The default Firebase app already exists. This means you called initialize_app() more than once without providing an app name as the second argument. In most cases you only need to call initialize_app() once. But if you do want to initialize multiple apps, pass a second argument to initialize_app() to give each app a unique name.",
     "output_type": "error",
     "traceback": [
      "\u001b[0;31m---------------------------------------------------------------------------\u001b[0m",
      "\u001b[0;31mValueError\u001b[0m                                Traceback (most recent call last)",
      "\u001b[0;32m<ipython-input-108-230940897186>\u001b[0m in \u001b[0;36m<module>\u001b[0;34m\u001b[0m\n\u001b[1;32m      9\u001b[0m \u001b[0;31m# Initialize the app with a service account, granting admin privileges\u001b[0m\u001b[0;34m\u001b[0m\u001b[0;34m\u001b[0m\u001b[0;34m\u001b[0m\u001b[0m\n\u001b[1;32m     10\u001b[0m firebase_admin.initialize_app(cred, {\n\u001b[0;32m---> 11\u001b[0;31m     \u001b[0;34m'databaseURL'\u001b[0m\u001b[0;34m:\u001b[0m \u001b[0;34m'https://cau-hashkeyword.firebaseio.com'\u001b[0m\u001b[0;34m\u001b[0m\u001b[0;34m\u001b[0m\u001b[0m\n\u001b[0m\u001b[1;32m     12\u001b[0m })\n",
      "\u001b[0;32m~/anaconda3/lib/python3.7/site-packages/firebase_admin/__init__.py\u001b[0m in \u001b[0;36minitialize_app\u001b[0;34m(credential, options, name)\u001b[0m\n\u001b[1;32m     72\u001b[0m     \u001b[0;32mif\u001b[0m \u001b[0mname\u001b[0m \u001b[0;34m==\u001b[0m \u001b[0m_DEFAULT_APP_NAME\u001b[0m\u001b[0;34m:\u001b[0m\u001b[0;34m\u001b[0m\u001b[0;34m\u001b[0m\u001b[0m\n\u001b[1;32m     73\u001b[0m         raise ValueError((\n\u001b[0;32m---> 74\u001b[0;31m             \u001b[0;34m'The default Firebase app already exists. This means you called '\u001b[0m\u001b[0;34m\u001b[0m\u001b[0;34m\u001b[0m\u001b[0m\n\u001b[0m\u001b[1;32m     75\u001b[0m             \u001b[0;34m'initialize_app() more than once without providing an app name as '\u001b[0m\u001b[0;34m\u001b[0m\u001b[0;34m\u001b[0m\u001b[0m\n\u001b[1;32m     76\u001b[0m             \u001b[0;34m'the second argument. In most cases you only need to call '\u001b[0m\u001b[0;34m\u001b[0m\u001b[0;34m\u001b[0m\u001b[0m\n",
      "\u001b[0;31mValueError\u001b[0m: The default Firebase app already exists. This means you called initialize_app() more than once without providing an app name as the second argument. In most cases you only need to call initialize_app() once. But if you do want to initialize multiple apps, pass a second argument to initialize_app() to give each app a unique name."
     ]
    }
   ],
   "source": [
    "import firebase_admin\n",
    "from firebase_admin import credentials\n",
    "from firebase_admin import db\n",
    "\n",
    "\n",
    "# Fetch the service account key JSON file contents\n",
    "cred = credentials.Certificate('/Users/Solomon/Desktop/cau-hashkeyword-serviceAccountKey.json')\n",
    "\n",
    "# Initialize the app with a service account, granting admin privileges\n",
    "firebase_admin.initialize_app(cred, {\n",
    "    'databaseURL': 'https://cau-hashkeyword.firebaseio.com'\n",
    "})"
   ]
  },
  {
   "cell_type": "code",
   "execution_count": 171,
   "metadata": {},
   "outputs": [],
   "source": [
    "class Info_webpage:\n",
    "    def setData(self, title, date, url):\n",
    "        self.title = title\n",
    "        self.date = date\n",
    "        self.url = url\n",
    "    def getData(self):\n",
    "        self.dataSet = []\n",
    "        for i in range(len(self.title)):\n",
    "            self.dataSet.append((self.title[i], self.date[i], self.url[i]))\n",
    "        return self.dataSet\n",
    "    def getTitle(self):\n",
    "        return self.title\n",
    "    def getDate(self):\n",
    "        return self.date\n",
    "    def getUrl(self):\n",
    "        return self.url"
   ]
  },
  {
   "cell_type": "code",
   "execution_count": 172,
   "metadata": {},
   "outputs": [],
   "source": [
    "class Info_user:\n",
    "    def __init__(self):\n",
    "        self.match = []\n",
    "    def setData(self, user, keywords, selectedWebsite, fcmToken): # 나중에 uid 부분은 빼도 무방\n",
    "        self.uid = user\n",
    "        self.keywords = keywords\n",
    "        self.selectedWebsite = selectedWebsite\n",
    "        self.fcmToken = fcmToken\n",
    "    def setSelectedWebsite(self, selectedWebsite): # parsing한 웹페이지 이름 저장\n",
    "        self.selectedWebsite = selectedWebsite\n",
    "    def getUid(self):\n",
    "        return self.uid\n",
    "    def getKeywords(self):\n",
    "        return self.keywords\n",
    "    def getSelectedWebsite(self):\n",
    "        return self.selectedWebsite\n",
    "    def getFcmToken(self):\n",
    "        return self.fcmToken\n",
    "    def setPushData(self, matchKeyword, matchTitle, matchDate, matchURL):\n",
    "        self.match.append((matchKeyword, matchTitle, matchDate, matchURL))\n",
    "    def getPushData(self):\n",
    "        return self.match\n",
    "    def initPushData(self): # Push 알림을 보낸 후 초기화 과정\n",
    "        self.match = []"
   ]
  },
  {
   "cell_type": "code",
   "execution_count": 196,
   "metadata": {},
   "outputs": [],
   "source": [
    "ref = db.reference('crawling/webpages')\n",
    "\n",
    "dorm = Info_webpage()\n",
    "ict = Info_webpage()\n",
    "\n",
    "webpages = {'dormitory': dorm, 'ict': ict}\n",
    "\n",
    "for (name, page) in webpages.items():\n",
    "    page.setData(ref.child(name).child('title').get(),\n",
    "                 ref.child(name).child('date').get(),\n",
    "                 ref.child(name).child('url').get())"
   ]
  },
  {
   "cell_type": "code",
   "execution_count": 197,
   "metadata": {},
   "outputs": [],
   "source": [
    "ref = db.reference('users')\n",
    "\n",
    "users = ref.get() # 유저의 uid 가져옴\n",
    "# users_uid = ref.get().keys()\n",
    "users_info = []\n",
    "\n",
    "for user in users:\n",
    "    infoUser = Info_user() # 객체를 유저 하나씩 만듬\n",
    "    infoUser.setData(user,\n",
    "                     ref.child(user).child('keywords').get(),\n",
    "                     ref.child(user).child('selectedWebsite').get(),\n",
    "                     ref.child(user).child('fcmToken').get())\n",
    "    user_parseSelectedWebsite = []\n",
    "    for selected in infoUser.getSelectedWebsite():\n",
    "        user_parseSelectedWebsite.append(selected.split('(')[1][:-1].split('.')[0])\n",
    "    infoUser.setSelectedWebsite(user_parseSelectedWebsite)\n",
    "    users_info.append(infoUser)"
   ]
  },
  {
   "cell_type": "code",
   "execution_count": 198,
   "metadata": {},
   "outputs": [],
   "source": [
    "# 4중 for문 최적화 요망 (추후 업데이트) - 물론 크롤링 주기를 짧게하면 title을 도는 부분이 적게 걸림\n",
    "# 유저를 순차적으로 선택하며 해당 유저가 선택한 웹사이트에서 키워드를 공지사항의 제목과 비교\n",
    "\n",
    "for user in users_info:\n",
    "    for site in user.getSelectedWebsite():\n",
    "        for keyword in user.getKeywords():\n",
    "            for (title, date, url) in webpages[site].getData():\n",
    "                if keyword in title:\n",
    "                    user.setPushData(keyword, title, date, url)"
   ]
  },
  {
   "cell_type": "code",
   "execution_count": 199,
   "metadata": {},
   "outputs": [],
   "source": [
    "# ios Application에 push notification 전송"
   ]
  },
  {
   "cell_type": "code",
   "execution_count": 200,
   "metadata": {},
   "outputs": [],
   "source": [
    "# user별로 push할 데이터를 담아둔 match 리스트 초기화 (match는 이번 실행에 보낼 데이터만을 저장해 둠)\n",
    "# for user in users_info:\n",
    "#    user.initPushData()"
   ]
  },
  {
   "cell_type": "code",
   "execution_count": 205,
   "metadata": {},
   "outputs": [
    {
     "name": "stdout",
     "output_type": "stream",
     "text": [
      "[('입관', '[생활관] 생활관 입관 가능시간 안내/Dormitory Admission Time Information', '2016.06.23', 'https://dormitory.cau.ac.kr/bbs/bbs_view.php?pNum=1611&bbsID=notice'), ('막역지룸', '[막역지룸] 2019학년도 1학기 \"막역지룸(莫逆之Room)\" 행사 안내/“Giving Compliments to Your Roommate” Program Information', '2019.04.03', 'https://dormitory.cau.ac.kr/bbs/bbs_view.php?pNum=2769&bbsID=notice'), ('막역지룸', '[막역지룸] 2019-1학기 막역지룸 선발 공지/Roommate program notice', '2019.04.17', 'https://dormitory.cau.ac.kr/bbs/bbs_view.php?pNum=2780&bbsID=notice')]\n",
      "\n"
     ]
    }
   ],
   "source": [
    "fcmTokens = {}\n",
    "pushData = {}\n",
    "\n",
    "for user in users_info:\n",
    "    if(len(user.getPushData()) > 0):\n",
    "        # print(user.getUid())\n",
    "        # print(user.getFcmToken())\n",
    "        print(user.getPushData())\n",
    "        print()\n",
    "        fcmTokens[user.getFcmToken()] = user.getPushData()\n",
    "        pushData[user.getUid()] = user.getPushData()\n",
    "        # fcmTokens와 pushData는 fcmToken 외에는 데이터의 차이가 없지만, 일단 기능에 따라 분리하였다.\n",
    "        \n",
    "# fcmTokens # 같은 기기에 아이디를 2개 등록하면 하나의 fcmToken에 덮어 쓰여진다.\n",
    "# pushData"
   ]
  },
  {
   "cell_type": "code",
   "execution_count": 203,
   "metadata": {},
   "outputs": [
    {
     "name": "stdout",
     "output_type": "stream",
     "text": [
      "{'multicast_ids': [8341570536753262531], 'success': 1, 'failure': 0, 'canonical_ids': 0, 'results': [{'message_id': '1561436680888812'}], 'topic_message_id': None}\n"
     ]
    }
   ],
   "source": [
    "# https://github.com/olucurious/PyFCM\n",
    "from pyfcm import FCMNotification\n",
    "import json\n",
    "\n",
    "with open(\"/Users/Solomon/Desktop/fcm-server-key.json\") as json_file:\n",
    "    json_data = json.load(json_file)\n",
    "    server_key = json_data[\"server_key\"]\n",
    "\n",
    "push_service = FCMNotification(api_key=server_key)\n",
    "\n",
    "# OR initialize with proxies\n",
    "# proxy_dict = {\n",
    "#           \"http\"  : \"http://127.0.0.1\",\n",
    "#           \"https\" : \"http://127.0.0.1\",\n",
    "#         }\n",
    "# push_service = FCMNotification(api_key=\"<api-key>\", proxy_dict=proxy_dict)\n",
    "\n",
    "# Your api-key can be gotten from:  https://console.firebase.google.com/project/<project-name>/settings/cloudmessaging\n",
    "\n",
    "# 알림 메시지\n",
    "for (token, data) in fcmTokens.items():\n",
    "    registration_id = token\n",
    "    for i in range(len(data)):\n",
    "        # 공지사항의 출처를 찾는다. (URL주소에서)\n",
    "        reference = data[i][3].split(\"//\")[1].split(\".\")[0]\n",
    "        if reference == \"cau\":\n",
    "            reference = \"CAUNOTICE\"\n",
    "        elif reference == \"library\":\n",
    "            reference = \"도서관\"\n",
    "        elif reference == \"dormitory\":\n",
    "            reference = \"생활관\"\n",
    "        elif reference == \"ict\":\n",
    "            reference = \"창의ICT공과대학\"\n",
    "        elif refference == \"cse\":\n",
    "            reference = \"소프트웨어학부\"\n",
    "        else: # 만약 해당되는 것이 없다면\n",
    "            reference = \"\"\n",
    "    \n",
    "        message_title = \"중앙대학교(서울) \" + reference + \"   #\" + data[i][0]\n",
    "        message_body = data[i][1]\n",
    "        result = push_service.notify_single_device(registration_id=registration_id, message_title=message_title, message_body=message_body)\n",
    "\n",
    "    print(result)\n",
    "    \n",
    "\n",
    "# 앱이 TimelineView를 실행했을 때 전달되어야 하는 정보들을 DB에 올려둠\n",
    "ref = db.reference('users')\n",
    "for user in users:\n",
    "    if ref.child(user).child('fcmToken').get() in fcmTokens.keys():\n",
    "        ref.child(user).child('pushData').set(pushData[user]) # update?\n",
    "        # 어차피 매번 갱신되어야 하므로.. 이전 데이터는 필요 x (이전알림들은 각 디바이스에 아카이빙된다.)\n",
    "    \n",
    "\n",
    "# 데이터 메시지로 정보를 보내주는 것이 아닌 firebase에 알림 메시지를 준 내용으로 pushData 항목을 만들기\n",
    "# 그리고 앱을 실행하여 타임라인 뷰에 들어가면 pushData 항목과 테이블 뷰를 동기화\n",
    "\n",
    "# 데이터 메시지\n",
    "# i = 0\n",
    "# for (token, data) in fcmTokens.items():\n",
    "#     registration_id = token\n",
    "#     data_message = {\n",
    "#         \"keyword\": data[i][0],\n",
    "#         \"title\": data[i][1],\n",
    "#         \"date\": data[i][2],\n",
    "#         \"url\": data[i][3]\n",
    "#     }\n",
    "#     result = push_service.single_device_data_message(registration_id=registration_id, data_message=data_message)\n",
    "#     i += 1\n",
    "    \n",
    "#     print(result)\n",
    "    \n",
    "# 알림메시지와 데이터메시지를 같이 보내면 사용자가 알림을 탭(오픈)한 경우에만, 앱이 데이터 페이로드를 처리하므로 나눠서 작업하자.\n",
    "# 출처: https://pliss.tistory.com/116"
   ]
  },
  {
   "cell_type": "code",
   "execution_count": null,
   "metadata": {},
   "outputs": [],
   "source": []
  }
 ],
 "metadata": {
  "kernelspec": {
   "display_name": "Python 3",
   "language": "python",
   "name": "python3"
  },
  "language_info": {
   "codemirror_mode": {
    "name": "ipython",
    "version": 3
   },
   "file_extension": ".py",
   "mimetype": "text/x-python",
   "name": "python",
   "nbconvert_exporter": "python",
   "pygments_lexer": "ipython3",
   "version": "3.7.1"
  }
 },
 "nbformat": 4,
 "nbformat_minor": 2
}
