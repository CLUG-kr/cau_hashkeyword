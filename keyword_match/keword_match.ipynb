{
 "cells": [
  {
   "cell_type": "code",
   "execution_count": 82,
   "metadata": {},
   "outputs": [
    {
     "ename": "ValueError",
     "evalue": "Invalid refresh token configuration. JSON must contain a \"type\" field set to \"authorized_user\".",
     "output_type": "error",
     "traceback": [
      "\u001b[0;31m---------------------------------------------------------------------------\u001b[0m",
      "\u001b[0;31mValueError\u001b[0m                                Traceback (most recent call last)",
      "\u001b[0;32m<ipython-input-82-626c768bcadb>\u001b[0m in \u001b[0;36m<module>\u001b[0;34m\u001b[0m\n\u001b[1;32m      5\u001b[0m \u001b[0;34m\u001b[0m\u001b[0m\n\u001b[1;32m      6\u001b[0m \u001b[0;31m# Fetch the service account key JSON file contents\u001b[0m\u001b[0;34m\u001b[0m\u001b[0;34m\u001b[0m\u001b[0;34m\u001b[0m\u001b[0m\n\u001b[0;32m----> 7\u001b[0;31m \u001b[0mcred\u001b[0m \u001b[0;34m=\u001b[0m \u001b[0mcredentials\u001b[0m\u001b[0;34m.\u001b[0m\u001b[0mRefreshToken\u001b[0m\u001b[0;34m(\u001b[0m\u001b[0;34m'/Users/Solomon/Desktop/cau-hashkeyword-serviceAccountKey.json'\u001b[0m\u001b[0;34m)\u001b[0m\u001b[0;34m\u001b[0m\u001b[0;34m\u001b[0m\u001b[0m\n\u001b[0m\u001b[1;32m      8\u001b[0m \u001b[0;34m\u001b[0m\u001b[0m\n\u001b[1;32m      9\u001b[0m \u001b[0;31m# Initialize the app with a service account, granting admin privileges\u001b[0m\u001b[0;34m\u001b[0m\u001b[0;34m\u001b[0m\u001b[0;34m\u001b[0m\u001b[0m\n",
      "\u001b[0;32m~/anaconda3/lib/python3.7/site-packages/firebase_admin/credentials.py\u001b[0m in \u001b[0;36m__init__\u001b[0;34m(self, refresh_token)\u001b[0m\n\u001b[1;32m    179\u001b[0m         \u001b[0;32mif\u001b[0m \u001b[0mjson_data\u001b[0m\u001b[0;34m.\u001b[0m\u001b[0mget\u001b[0m\u001b[0;34m(\u001b[0m\u001b[0;34m'type'\u001b[0m\u001b[0;34m)\u001b[0m \u001b[0;34m!=\u001b[0m \u001b[0mself\u001b[0m\u001b[0;34m.\u001b[0m\u001b[0m_CREDENTIAL_TYPE\u001b[0m\u001b[0;34m:\u001b[0m\u001b[0;34m\u001b[0m\u001b[0;34m\u001b[0m\u001b[0m\n\u001b[1;32m    180\u001b[0m             raise ValueError('Invalid refresh token configuration. JSON must contain a '\n\u001b[0;32m--> 181\u001b[0;31m                              '\"type\" field set to \"{0}\".'.format(self._CREDENTIAL_TYPE))\n\u001b[0m\u001b[1;32m    182\u001b[0m         \u001b[0mself\u001b[0m\u001b[0;34m.\u001b[0m\u001b[0m_g_credential\u001b[0m \u001b[0;34m=\u001b[0m \u001b[0mcredentials\u001b[0m\u001b[0;34m.\u001b[0m\u001b[0mCredentials\u001b[0m\u001b[0;34m.\u001b[0m\u001b[0mfrom_authorized_user_info\u001b[0m\u001b[0;34m(\u001b[0m\u001b[0mjson_data\u001b[0m\u001b[0;34m,\u001b[0m \u001b[0m_scopes\u001b[0m\u001b[0;34m)\u001b[0m\u001b[0;34m\u001b[0m\u001b[0;34m\u001b[0m\u001b[0m\n\u001b[1;32m    183\u001b[0m \u001b[0;34m\u001b[0m\u001b[0m\n",
      "\u001b[0;31mValueError\u001b[0m: Invalid refresh token configuration. JSON must contain a \"type\" field set to \"authorized_user\"."
     ]
    }
   ],
   "source": [
    "import firebase_admin\n",
    "from firebase_admin import credentials\n",
    "from firebase_admin import db\n",
    "\n",
    "\n",
    "# Fetch the service account key JSON file contents\n",
    "cred = credentials.Certificate('/Users/Solomon/Desktop/cau-hashkeyword-serviceAccountKey.json')\n",
    "\n",
    "# Initialize the app with a service account, granting admin privileges\n",
    "firebase_admin.initialize_app(cred, {\n",
    "    'databaseURL': 'https://cau-hashkeyword.firebaseio.com'\n",
    "})"
   ]
  },
  {
   "cell_type": "code",
   "execution_count": 73,
   "metadata": {},
   "outputs": [],
   "source": [
    "class Info_webpage:\n",
    "    def setData(self, title, date, url):\n",
    "        self.title = title\n",
    "        self.date = date\n",
    "        self.url = url\n",
    "    def getData(self):\n",
    "        self.dataSet = []\n",
    "        for i in range(len(self.title)):\n",
    "            self.dataSet.append((self.title[i], self.date[i], self.url[i]))\n",
    "        return self.dataSet\n",
    "    def getTitle(self):\n",
    "        return self.title\n",
    "    def getDate(self):\n",
    "        return self.date\n",
    "    def getUrl(self):\n",
    "        return self.url"
   ]
  },
  {
   "cell_type": "code",
   "execution_count": 74,
   "metadata": {},
   "outputs": [],
   "source": [
    "class Info_user:\n",
    "    def __init__(self):\n",
    "        self.match = []\n",
    "    def setData(self, user, keywords, selectedWebsite, fcmToken): # 나중에 uid 부분은 빼도 무방\n",
    "        self.uid = user\n",
    "        self.keywords = keywords\n",
    "        self.selectedWebsite = selectedWebsite\n",
    "        self.fcmToken = fcmToken\n",
    "    def setSelectedWebsite(self, selectedWebsite): # parsing한 웹페이지 이름 저장\n",
    "        self.selectedWebsite = selectedWebsite\n",
    "    def getUid(self):\n",
    "        return self.uid\n",
    "    def getKeywords(self):\n",
    "        return self.keywords\n",
    "    def getSelectedWebsite(self):\n",
    "        return self.selectedWebsite\n",
    "    def getFcmToken(self):\n",
    "        return self.fcmToken\n",
    "    def setPushData(self, matchKeyword, matchTitle, matchDate, matchURL):\n",
    "        self.match.append((matchKeyword, matchTitle, matchDate, matchURL))\n",
    "    def getPushData(self):\n",
    "        return self.match\n",
    "    def initPushData(self): # Push 알림을 보낸 후 초기화 과정\n",
    "        self.match = []"
   ]
  },
  {
   "cell_type": "code",
   "execution_count": 75,
   "metadata": {},
   "outputs": [],
   "source": [
    "ref = db.reference('crawling/webpages')\n",
    "\n",
    "dorm = Info_webpage()\n",
    "ict = Info_webpage()\n",
    "\n",
    "webpages = {'dormitory': dorm, 'ict': ict}\n",
    "\n",
    "for (name, page) in webpages.items():\n",
    "    page.setData(ref.child(name).child('title').get(),\n",
    "                 ref.child(name).child('date').get(),\n",
    "                 ref.child(name).child('url').get())"
   ]
  },
  {
   "cell_type": "code",
   "execution_count": 76,
   "metadata": {},
   "outputs": [],
   "source": [
    "ref = db.reference('users')\n",
    "\n",
    "users = ref.get() # 유저의 uid 가져옴\n",
    "# users_uid = ref.get().keys()\n",
    "users_info = []\n",
    "\n",
    "for user in users:\n",
    "    infoUser = Info_user() # 객체를 유저 하나씩 만듬\n",
    "    infoUser.setData(user,\n",
    "                     ref.child(user).child('keywords').get(),\n",
    "                     ref.child(user).child('selectedWebsite').get(),\n",
    "                     ref.child(user).child('fcmToken').get())\n",
    "    user_parseSelectedWebsite = []\n",
    "    for selected in infoUser.getSelectedWebsite():\n",
    "        user_parseSelectedWebsite.append(selected.split('(')[1][:-1].split('.')[0])\n",
    "    infoUser.setSelectedWebsite(user_parseSelectedWebsite)\n",
    "    users_info.append(infoUser)"
   ]
  },
  {
   "cell_type": "code",
   "execution_count": 77,
   "metadata": {},
   "outputs": [],
   "source": [
    "# 4중 for문 최적화 요망 (추후 업데이트) - 물론 크롤링 주기를 짧게하면 title을 도는 부분이 적게 걸림\n",
    "# 유저를 순차적으로 선택하며 해당 유저가 선택한 웹사이트에서 키워드를 공지사항의 제목과 비교\n",
    "\n",
    "for user in users_info:\n",
    "    for site in user.getSelectedWebsite():\n",
    "        for keyword in user.getKeywords():\n",
    "            for (title, date, url) in webpages[site].getData():\n",
    "                if keyword in title:\n",
    "                    user.setPushData(keyword, title, date, url)"
   ]
  },
  {
   "cell_type": "code",
   "execution_count": 69,
   "metadata": {},
   "outputs": [],
   "source": [
    "# ios Application에 push notification 전송"
   ]
  },
  {
   "cell_type": "code",
   "execution_count": 70,
   "metadata": {},
   "outputs": [],
   "source": [
    "# user별로 push할 데이터를 담아둔 match 리스트 초기화 (match는 이번 실행에 보낼 데이터만을 저장해 둠)\n",
    "# for user in users_info:\n",
    "#    user.initPushData()"
   ]
  },
  {
   "cell_type": "code",
   "execution_count": 78,
   "metadata": {},
   "outputs": [
    {
     "name": "stdout",
     "output_type": "stream",
     "text": [
      "hw2HvzaMONf1IPjWsC0kDa7a1Ta2\n",
      "cRxLJsIeJQo:APA91bGigr4N6dy8DSc-_g40fPst6wV2mBEcmLX0sNdk4y5HnWgoalpo35KMQL1GUOS9GAnnP6oHAG4ucX2yNxFOphaZHylFtCvzeiw9P1-kl7VVqgAuNKfNo86rt3Z90UyhVDHt2MMy\n",
      "[('막역지룸', '[막역지룸] 2019학년도 1학기 \"막역지룸(莫逆之Room)\" 행사 안내/“Giving Compliments to Your Roommate” Program Information', '2019.04.03', 'https://dormitory.cau.ac.kr/bbs/bbs_view.php?pNum=2769&bbsID=notice'), ('막역지룸', '[막역지룸] 2019-1학기 막역지룸 선발 공지/Roommate program notice', '2019.04.17', 'https://dormitory.cau.ac.kr/bbs/bbs_view.php?pNum=2780&bbsID=notice')]\n",
      "\n",
      "sVEZQkUcIsg5JmPDgrt3sQWu6yq2\n",
      "cRxLJsIeJQo:APA91bGigr4N6dy8DSc-_g40fPst6wV2mBEcmLX0sNdk4y5HnWgoalpo35KMQL1GUOS9GAnnP6oHAG4ucX2yNxFOphaZHylFtCvzeiw9P1-kl7VVqgAuNKfNo86rt3Z90UyhVDHt2MMy\n",
      "[('입관', '[생활관] 생활관 입관 가능시간 안내/Dormitory Admission Time Information', '2016.06.23', 'https://dormitory.cau.ac.kr/bbs/bbs_view.php?pNum=1611&bbsID=notice')]\n",
      "\n"
     ]
    },
    {
     "data": {
      "text/plain": [
       "{'cRxLJsIeJQo:APA91bGigr4N6dy8DSc-_g40fPst6wV2mBEcmLX0sNdk4y5HnWgoalpo35KMQL1GUOS9GAnnP6oHAG4ucX2yNxFOphaZHylFtCvzeiw9P1-kl7VVqgAuNKfNo86rt3Z90UyhVDHt2MMy': [('입관',\n",
       "   '[생활관] 생활관 입관 가능시간 안내/Dormitory Admission Time Information',\n",
       "   '2016.06.23',\n",
       "   'https://dormitory.cau.ac.kr/bbs/bbs_view.php?pNum=1611&bbsID=notice')]}"
      ]
     },
     "execution_count": 78,
     "metadata": {},
     "output_type": "execute_result"
    }
   ],
   "source": [
    "fcmTokens = {}\n",
    "\n",
    "for user in users_info:\n",
    "    if(len(user.getPushData()) > 0):\n",
    "        print(user.getUid())\n",
    "        print(user.getFcmToken())\n",
    "        print(user.getPushData())\n",
    "        print()\n",
    "        fcmTokens[user.getFcmToken()] = user.getPushData()\n",
    "        \n",
    "fcmTokens # 현재는 같은 기기에 아이디를 2개 등록하였기 때문에 fcmToken이 덮어 쓰여졌다."
   ]
  },
  {
   "cell_type": "code",
   "execution_count": 83,
   "metadata": {},
   "outputs": [
    {
     "name": "stdout",
     "output_type": "stream",
     "text": [
      "{'multicast_ids': [4920976223142322881], 'success': 1, 'failure': 0, 'canonical_ids': 0, 'results': [{'message_id': '1561357783471988'}], 'topic_message_id': None}\n"
     ]
    }
   ],
   "source": [
    "# Send to single device.\n",
    "from pyfcm import FCMNotification\n",
    "import json\n",
    "\n",
    "with open(\"/Users/Solomon/Desktop/fcm-server-key.json\") as json_file:\n",
    "    json_data = json.load(json_file)\n",
    "    server_key = json_data[\"server_key\"]\n",
    "\n",
    "push_service = FCMNotification(api_key=server_key)\n",
    "\n",
    "# OR initialize with proxies\n",
    "# proxy_dict = {\n",
    "#           \"http\"  : \"http://127.0.0.1\",\n",
    "#           \"https\" : \"http://127.0.0.1\",\n",
    "#         }\n",
    "# push_service = FCMNotification(api_key=\"<api-key>\", proxy_dict=proxy_dict)\n",
    "\n",
    "# Your api-key can be gotten from:  https://console.firebase.google.com/project/<project-name>/settings/cloudmessaging\n",
    "\n",
    "i = 0\n",
    "for (token, data) in fcmTokens.items():\n",
    "    registration_id = token\n",
    "    message_title = \"중앙대학교(서울) \" + \"생활관 \" + \"#\" + data[i][0] # 생활관 같은 공지사항의 위치는 추후 다시 처리하도록 하자\n",
    "    message_body = data[i][1]\n",
    "    result = push_service.notify_single_device(registration_id=registration_id, message_title=message_title, message_body=message_body)\n",
    "    i += 1\n",
    "\n",
    "    print(result)"
   ]
  },
  {
   "cell_type": "code",
   "execution_count": null,
   "metadata": {},
   "outputs": [],
   "source": []
  }
 ],
 "metadata": {
  "kernelspec": {
   "display_name": "Python 3",
   "language": "python",
   "name": "python3"
  },
  "language_info": {
   "codemirror_mode": {
    "name": "ipython",
    "version": 3
   },
   "file_extension": ".py",
   "mimetype": "text/x-python",
   "name": "python",
   "nbconvert_exporter": "python",
   "pygments_lexer": "ipython3",
   "version": "3.7.1"
  }
 },
 "nbformat": 4,
 "nbformat_minor": 2
}
