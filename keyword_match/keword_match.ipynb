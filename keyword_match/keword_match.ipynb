{
 "cells": [
  {
   "cell_type": "code",
   "execution_count": 257,
   "metadata": {},
   "outputs": [
    {
     "ename": "ValueError",
     "evalue": "The default Firebase app already exists. This means you called initialize_app() more than once without providing an app name as the second argument. In most cases you only need to call initialize_app() once. But if you do want to initialize multiple apps, pass a second argument to initialize_app() to give each app a unique name.",
     "output_type": "error",
     "traceback": [
      "\u001b[0;31m---------------------------------------------------------------------------\u001b[0m",
      "\u001b[0;31mValueError\u001b[0m                                Traceback (most recent call last)",
      "\u001b[0;32m<ipython-input-257-230940897186>\u001b[0m in \u001b[0;36m<module>\u001b[0;34m\u001b[0m\n\u001b[1;32m      9\u001b[0m \u001b[0;31m# Initialize the app with a service account, granting admin privileges\u001b[0m\u001b[0;34m\u001b[0m\u001b[0;34m\u001b[0m\u001b[0;34m\u001b[0m\u001b[0m\n\u001b[1;32m     10\u001b[0m firebase_admin.initialize_app(cred, {\n\u001b[0;32m---> 11\u001b[0;31m     \u001b[0;34m'databaseURL'\u001b[0m\u001b[0;34m:\u001b[0m \u001b[0;34m'https://cau-hashkeyword.firebaseio.com'\u001b[0m\u001b[0;34m\u001b[0m\u001b[0;34m\u001b[0m\u001b[0m\n\u001b[0m\u001b[1;32m     12\u001b[0m })\n",
      "\u001b[0;32m~/anaconda3/lib/python3.7/site-packages/firebase_admin/__init__.py\u001b[0m in \u001b[0;36minitialize_app\u001b[0;34m(credential, options, name)\u001b[0m\n\u001b[1;32m     72\u001b[0m     \u001b[0;32mif\u001b[0m \u001b[0mname\u001b[0m \u001b[0;34m==\u001b[0m \u001b[0m_DEFAULT_APP_NAME\u001b[0m\u001b[0;34m:\u001b[0m\u001b[0;34m\u001b[0m\u001b[0;34m\u001b[0m\u001b[0m\n\u001b[1;32m     73\u001b[0m         raise ValueError((\n\u001b[0;32m---> 74\u001b[0;31m             \u001b[0;34m'The default Firebase app already exists. This means you called '\u001b[0m\u001b[0;34m\u001b[0m\u001b[0;34m\u001b[0m\u001b[0m\n\u001b[0m\u001b[1;32m     75\u001b[0m             \u001b[0;34m'initialize_app() more than once without providing an app name as '\u001b[0m\u001b[0;34m\u001b[0m\u001b[0;34m\u001b[0m\u001b[0m\n\u001b[1;32m     76\u001b[0m             \u001b[0;34m'the second argument. In most cases you only need to call '\u001b[0m\u001b[0;34m\u001b[0m\u001b[0;34m\u001b[0m\u001b[0m\n",
      "\u001b[0;31mValueError\u001b[0m: The default Firebase app already exists. This means you called initialize_app() more than once without providing an app name as the second argument. In most cases you only need to call initialize_app() once. But if you do want to initialize multiple apps, pass a second argument to initialize_app() to give each app a unique name."
     ]
    }
   ],
   "source": [
    "import firebase_admin\n",
    "from firebase_admin import credentials\n",
    "from firebase_admin import db\n",
    "\n",
    "\n",
    "# Fetch the service account key JSON file contents\n",
    "cred = credentials.Certificate('/Users/Solomon/Desktop/cau-hashkeyword-serviceAccountKey.json')\n",
    "\n",
    "# Initialize the app with a service account, granting admin privileges\n",
    "firebase_admin.initialize_app(cred, {\n",
    "    'databaseURL': 'https://cau-hashkeyword.firebaseio.com'\n",
    "})"
   ]
  },
  {
   "cell_type": "code",
   "execution_count": 258,
   "metadata": {},
   "outputs": [],
   "source": [
    "from firebase_admin import db"
   ]
  },
  {
   "cell_type": "code",
   "execution_count": 264,
   "metadata": {},
   "outputs": [],
   "source": [
    "class Info_webpage:\n",
    "    def setData(self, title, date, url):\n",
    "        self.title = title\n",
    "        self.date = date\n",
    "        self.url = url\n",
    "    def getData(self):\n",
    "        self.dataSet = []\n",
    "        for i in range(len(self.title)):\n",
    "            self.dataSet.append((self.title[i], self.date[i], self.url[i]))\n",
    "        return self.dataSet\n",
    "    def getTitle(self):\n",
    "        return self.title\n",
    "    def getDate(self):\n",
    "        return self.date\n",
    "    def getUrl(self):\n",
    "        return self.url"
   ]
  },
  {
   "cell_type": "code",
   "execution_count": 265,
   "metadata": {},
   "outputs": [],
   "source": [
    "class Info_user:\n",
    "    def __init__(self):\n",
    "        self.match = []\n",
    "    def setData(self, user, keywords, selectedWebsite): # 나중에 uid 부분은 빼도 무방\n",
    "        self.uid = user\n",
    "        self.keywords = keywords\n",
    "        self.selectedWebsite = selectedWebsite\n",
    "    def setSelectedWebsite(self, selectedWebsite): # parsing한 웹페이지 이름 저장\n",
    "        self.selectedWebsite = selectedWebsite\n",
    "    def getUid(self):\n",
    "        return self.uid\n",
    "    def getKeywords(self):\n",
    "        return self.keywords\n",
    "    def getSelectedWebsite(self):\n",
    "        return self.selectedWebsite\n",
    "    def setPushData(self, matchKeyword, matchTitle, matchDate, matchURL):\n",
    "        self.match.append((matchKeyword, matchTitle, matchDate, matchURL))\n",
    "    def getPushData(self):\n",
    "        return self.match\n",
    "    def initPushData(self): # Push 알림을 보낸 후 초기화 과정\n",
    "        self.match = []"
   ]
  },
  {
   "cell_type": "code",
   "execution_count": 266,
   "metadata": {},
   "outputs": [],
   "source": [
    "ref = db.reference('crawling/webpages')\n",
    "\n",
    "dorm = Info_webpage()\n",
    "ict = Info_webpage()\n",
    "\n",
    "webpages = {'dormitory': dorm, 'ict': ict}\n",
    "\n",
    "for (name, page) in webpages.items():\n",
    "    page.setData(ref.child(name).child('title').get(),\n",
    "                 ref.child(name).child('date').get(),\n",
    "                 ref.child(name).child('url').get())"
   ]
  },
  {
   "cell_type": "code",
   "execution_count": 267,
   "metadata": {},
   "outputs": [],
   "source": [
    "ref = db.reference('users')\n",
    "\n",
    "users = ref.get() # 유저의 uid 가져옴\n",
    "# users_uid = ref.get().keys()\n",
    "users_info = []\n",
    "\n",
    "for user in users:\n",
    "    infoUser = Info_user() # 객체를 유저 하나씩 만듬\n",
    "    infoUser.setData(user,\n",
    "                     ref.child(user).child('keywords').get(),\n",
    "                     ref.child(user).child('selectedWebsite').get())\n",
    "    user_parseSelectedWebsite = []\n",
    "    for selected in infoUser.getSelectedWebsite():\n",
    "        user_parseSelectedWebsite.append(selected.split('(')[1][:-1].split('.')[0])\n",
    "    infoUser.setSelectedWebsite(user_parseSelectedWebsite)\n",
    "    users_info.append(infoUser)"
   ]
  },
  {
   "cell_type": "code",
   "execution_count": 269,
   "metadata": {},
   "outputs": [
    {
     "name": "stdout",
     "output_type": "stream",
     "text": [
      "H6I55PotMVST50oIaDPGERH2Gj13\n",
      "[('입관', '[생활관] 생활관 입관 가능시간 안내/Dormitory Admission Time Information', '2016.06.23', 'https://dormitory.cau.ac.kr/bbs/bbs_view.php?pNum=1611&bbsID=notice'), ('막역지룸', '[막역지룸] 2019학년도 1학기 \"막역지룸(莫逆之Room)\" 행사 안내/“Giving Compliments to Your Roommate” Program Information', '2019.04.03', 'https://dormitory.cau.ac.kr/bbs/bbs_view.php?pNum=2769&bbsID=notice'), ('막역지룸', '[막역지룸] 2019-1학기 막역지룸 선발 공지/Roommate program notice', '2019.04.17', 'https://dormitory.cau.ac.kr/bbs/bbs_view.php?pNum=2780&bbsID=notice'), ('입관', '[생활관] 생활관 입관 가능시간 안내/Dormitory Admission Time Information', '2016.06.23', 'https://dormitory.cau.ac.kr/bbs/bbs_view.php?pNum=1611&bbsID=notice'), ('막역지룸', '[막역지룸] 2019학년도 1학기 \"막역지룸(莫逆之Room)\" 행사 안내/“Giving Compliments to Your Roommate” Program Information', '2019.04.03', 'https://dormitory.cau.ac.kr/bbs/bbs_view.php?pNum=2769&bbsID=notice'), ('막역지룸', '[막역지룸] 2019-1학기 막역지룸 선발 공지/Roommate program notice', '2019.04.17', 'https://dormitory.cau.ac.kr/bbs/bbs_view.php?pNum=2780&bbsID=notice')]\n",
      "nrGS9AFjVuVzOwHiefAW9OzpWZx2\n",
      "[('중간고사', '2019-1중간고사 시간표 및 부정행위자 징계기준', '2019.04.12', 'http://ict.cau.ac.kr/20150610/sub05/sub05_01_list.php?cmd=view&cpage=1&idx=1299&search_gbn=1&search_keyword='), ('시간표', '2019-1중간고사 시간표 및 부정행위자 징계기준', '2019.04.12', 'http://ict.cau.ac.kr/20150610/sub05/sub05_01_list.php?cmd=view&cpage=1&idx=1299&search_gbn=1&search_keyword='), ('중간고사', '2019-1중간고사 시간표 및 부정행위자 징계기준', '2019.04.12', 'http://ict.cau.ac.kr/20150610/sub05/sub05_01_list.php?cmd=view&cpage=1&idx=1299&search_gbn=1&search_keyword='), ('시간표', '2019-1중간고사 시간표 및 부정행위자 징계기준', '2019.04.12', 'http://ict.cau.ac.kr/20150610/sub05/sub05_01_list.php?cmd=view&cpage=1&idx=1299&search_gbn=1&search_keyword=')]\n"
     ]
    }
   ],
   "source": [
    "result = []\n",
    "# 4중 for문 최적화 요망 (추후 업데이트) - 물론 크롤링 주기를 짧게하면 title을 도는 부분이 적게 걸림\n",
    "# 유저를 순차적으로 선택하며 해당 유저가 선택한 웹사이트에서 키워드를 공지사항의 제목과 비교\n",
    "\n",
    "for user in users_info:\n",
    "    for site in user.getSelectedWebsite():\n",
    "        for keyword in user.getKeywords():\n",
    "            for (title, date, url) in webpages[site].getData():\n",
    "                if keyword in title:\n",
    "                    user.setPushData(keyword, title, date, url)\n",
    "    print(user.getUid())\n",
    "    print(user.getPushData())"
   ]
  },
  {
   "cell_type": "code",
   "execution_count": null,
   "metadata": {},
   "outputs": [],
   "source": [
    "# ios Application에 push notification 전송"
   ]
  },
  {
   "cell_type": "code",
   "execution_count": null,
   "metadata": {},
   "outputs": [],
   "source": [
    "# user별로 push할 데이터를 담아둔 match 리스트 초기화 (match는 이번 실행에 보낼 데이터만을 저장해 둠)\n",
    "# for user in users_info:\n",
    "#     user.initPushData()"
   ]
  }
 ],
 "metadata": {
  "kernelspec": {
   "display_name": "Python 3",
   "language": "python",
   "name": "python3"
  },
  "language_info": {
   "codemirror_mode": {
    "name": "ipython",
    "version": 3
   },
   "file_extension": ".py",
   "mimetype": "text/x-python",
   "name": "python",
   "nbconvert_exporter": "python",
   "pygments_lexer": "ipython3",
   "version": "3.7.1"
  }
 },
 "nbformat": 4,
 "nbformat_minor": 2
}
